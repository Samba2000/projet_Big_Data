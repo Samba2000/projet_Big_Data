{
 "cells": [
  {
   "cell_type": "markdown",
   "id": "5468e124-7659-4662-a9dd-a621f89cf3b5",
   "metadata": {},
   "source": [
    "#### Importation des bibliothèques nécessaires"
   ]
  },
  {
   "cell_type": "code",
   "execution_count": 1,
   "id": "fc0daa0c-170c-499d-a152-86be3e8f1f31",
   "metadata": {},
   "outputs": [],
   "source": [
    "from minio import Minio  # Minio pour interagir avec le stockage S3 (MinIO).\n",
    "import pandas as pd  # Pandas pour manipuler les données sous forme de DataFrame.\n",
    "import s3fs  # S3FS pour interagir avec MinIO via le système de fichiers.\n",
    "import psycopg2  # psycopg2 pour se connecter à la base de données PostgreSQL.\n",
    "import os"
   ]
  },
  {
   "cell_type": "markdown",
   "id": "e3b65c56-6eb5-4c97-8767-21c187999546",
   "metadata": {},
   "source": [
    "#### Paramètres de connexion à la base de données PostgreSQL"
   ]
  },
  {
   "cell_type": "code",
   "execution_count": 2,
   "id": "a16bbfd0-b4cf-41a4-a6b5-50246bc5e758",
   "metadata": {},
   "outputs": [],
   "source": [
    "db_params = {\n",
    "    'dbname': 'inflation_db',  # Nom de la base de données.\n",
    "    'user': 'postgres',  # Utilisateur de la base de données.\n",
    "    'password': 'postgrespassword',  # Mot de passe pour l'utilisateur.\n",
    "    'host': 'localhost',  # Adresse de l'hôte.\n",
    "    'port': 5432  # Port.\n",
    "}"
   ]
  },
  {
   "cell_type": "markdown",
   "id": "ca80745e-f79d-4c0e-bd19-8ed1a09c8a7e",
   "metadata": {},
   "source": [
    "#### Nom de la table à traiter"
   ]
  },
  {
   "cell_type": "code",
   "execution_count": 3,
   "id": "45144c10-6460-4cef-933f-659c217bd00e",
   "metadata": {},
   "outputs": [],
   "source": [
    "table_name = \"inflation_data\""
   ]
  },
  {
   "cell_type": "markdown",
   "id": "543147ca-f9e2-49be-a15d-a9d661b80918",
   "metadata": {},
   "source": [
    "#### Fonction pour établir la connexion à la base de données PostgreSQL\n"
   ]
  },
  {
   "cell_type": "code",
   "execution_count": 4,
   "id": "924dd4d2-7f5a-4e19-919b-cb2f356e38fe",
   "metadata": {},
   "outputs": [],
   "source": [
    "def get_conn():\n",
    "    conn = psycopg2.connect(**db_params)\n",
    "    return conn"
   ]
  },
  {
   "cell_type": "markdown",
   "id": "cbb9790a-114c-409f-9753-5993eca3cb02",
   "metadata": {},
   "source": [
    "#### Établir la connexion à la base de données"
   ]
  },
  {
   "cell_type": "code",
   "execution_count": 5,
   "id": "fce7ead0-bf1b-48fa-8045-b062110c6c3a",
   "metadata": {},
   "outputs": [],
   "source": [
    "conn = get_conn()"
   ]
  },
  {
   "cell_type": "markdown",
   "id": "964c027e-3aaa-4d08-b9bb-19fa39b47047",
   "metadata": {},
   "source": [
    "#### Requête SQL pour récupérer toutes les données de la table"
   ]
  },
  {
   "cell_type": "code",
   "execution_count": 6,
   "id": "029ca07b-fd2a-45f7-bd3d-ec8e3421f22a",
   "metadata": {},
   "outputs": [],
   "source": [
    "query = f\"SELECT * FROM {table_name}\""
   ]
  },
  {
   "cell_type": "markdown",
   "id": "998c2cbb-ef6a-4cc1-9173-aa32093512d8",
   "metadata": {},
   "source": [
    "#### Charger les données de la table PostgreSQL dans un DataFrame Pandas"
   ]
  },
  {
   "cell_type": "code",
   "execution_count": 7,
   "id": "4b8242a7-54cb-402d-8a94-b9c44b31caf6",
   "metadata": {},
   "outputs": [
    {
     "name": "stderr",
     "output_type": "stream",
     "text": [
      "C:\\Users\\SAMBA\\AppData\\Local\\Temp\\ipykernel_22112\\2253497135.py:1: UserWarning: pandas only supports SQLAlchemy connectable (engine/connection) or database string URI or sqlite3 DBAPI2 connection. Other DBAPI2 objects are not tested. Please consider using SQLAlchemy.\n",
      "  raw_df = pd.read_sql(query, conn)\n"
     ]
    }
   ],
   "source": [
    "raw_df = pd.read_sql(query, conn)"
   ]
  },
  {
   "cell_type": "markdown",
   "id": "7cc6f416-e869-42c1-ab43-b6137638af23",
   "metadata": {},
   "source": [
    "#### Affichage du DataFrame brut"
   ]
  },
  {
   "cell_type": "code",
   "execution_count": 8,
   "id": "c0fbe976-9d14-4ebf-9076-1a0072b78f8e",
   "metadata": {},
   "outputs": [
    {
     "data": {
      "text/html": [
       "<div>\n",
       "<style scoped>\n",
       "    .dataframe tbody tr th:only-of-type {\n",
       "        vertical-align: middle;\n",
       "    }\n",
       "\n",
       "    .dataframe tbody tr th {\n",
       "        vertical-align: top;\n",
       "    }\n",
       "\n",
       "    .dataframe thead th {\n",
       "        text-align: right;\n",
       "    }\n",
       "</style>\n",
       "<table border=\"1\" class=\"dataframe\">\n",
       "  <thead>\n",
       "    <tr style=\"text-align: right;\">\n",
       "      <th></th>\n",
       "      <th>country</th>\n",
       "      <th>country_code</th>\n",
       "      <th>year</th>\n",
       "      <th>inflation</th>\n",
       "    </tr>\n",
       "  </thead>\n",
       "  <tbody>\n",
       "    <tr>\n",
       "      <th>0</th>\n",
       "      <td>Afghanistan</td>\n",
       "      <td>AFG</td>\n",
       "      <td>2001</td>\n",
       "      <td>-11.774536</td>\n",
       "    </tr>\n",
       "    <tr>\n",
       "      <th>1</th>\n",
       "      <td>Afghanistan</td>\n",
       "      <td>AFG</td>\n",
       "      <td>2002</td>\n",
       "      <td>6.125522</td>\n",
       "    </tr>\n",
       "    <tr>\n",
       "      <th>2</th>\n",
       "      <td>Afghanistan</td>\n",
       "      <td>AFG</td>\n",
       "      <td>2003</td>\n",
       "      <td>11.655238</td>\n",
       "    </tr>\n",
       "    <tr>\n",
       "      <th>3</th>\n",
       "      <td>Afghanistan</td>\n",
       "      <td>AFG</td>\n",
       "      <td>2004</td>\n",
       "      <td>11.271432</td>\n",
       "    </tr>\n",
       "    <tr>\n",
       "      <th>4</th>\n",
       "      <td>Afghanistan</td>\n",
       "      <td>AFG</td>\n",
       "      <td>2005</td>\n",
       "      <td>10.912774</td>\n",
       "    </tr>\n",
       "    <tr>\n",
       "      <th>...</th>\n",
       "      <td>...</td>\n",
       "      <td>...</td>\n",
       "      <td>...</td>\n",
       "      <td>...</td>\n",
       "    </tr>\n",
       "    <tr>\n",
       "      <th>13772</th>\n",
       "      <td>Zimbabwe</td>\n",
       "      <td>ZWE</td>\n",
       "      <td>2019</td>\n",
       "      <td>225.394648</td>\n",
       "    </tr>\n",
       "    <tr>\n",
       "      <th>13773</th>\n",
       "      <td>Zimbabwe</td>\n",
       "      <td>ZWE</td>\n",
       "      <td>2020</td>\n",
       "      <td>604.945864</td>\n",
       "    </tr>\n",
       "    <tr>\n",
       "      <th>13774</th>\n",
       "      <td>Zimbabwe</td>\n",
       "      <td>ZWE</td>\n",
       "      <td>2021</td>\n",
       "      <td>113.294981</td>\n",
       "    </tr>\n",
       "    <tr>\n",
       "      <th>13775</th>\n",
       "      <td>Zimbabwe</td>\n",
       "      <td>ZWE</td>\n",
       "      <td>2022</td>\n",
       "      <td>266.987152</td>\n",
       "    </tr>\n",
       "    <tr>\n",
       "      <th>13776</th>\n",
       "      <td>Zimbabwe</td>\n",
       "      <td>ZWE</td>\n",
       "      <td>2023</td>\n",
       "      <td>921.535652</td>\n",
       "    </tr>\n",
       "  </tbody>\n",
       "</table>\n",
       "<p>13777 rows × 4 columns</p>\n",
       "</div>"
      ],
      "text/plain": [
       "           country country_code  year   inflation\n",
       "0      Afghanistan          AFG  2001  -11.774536\n",
       "1      Afghanistan          AFG  2002    6.125522\n",
       "2      Afghanistan          AFG  2003   11.655238\n",
       "3      Afghanistan          AFG  2004   11.271432\n",
       "4      Afghanistan          AFG  2005   10.912774\n",
       "...            ...          ...   ...         ...\n",
       "13772     Zimbabwe          ZWE  2019  225.394648\n",
       "13773     Zimbabwe          ZWE  2020  604.945864\n",
       "13774     Zimbabwe          ZWE  2021  113.294981\n",
       "13775     Zimbabwe          ZWE  2022  266.987152\n",
       "13776     Zimbabwe          ZWE  2023  921.535652\n",
       "\n",
       "[13777 rows x 4 columns]"
      ]
     },
     "execution_count": 8,
     "metadata": {},
     "output_type": "execute_result"
    }
   ],
   "source": [
    "raw_df"
   ]
  },
  {
   "cell_type": "markdown",
   "id": "873b3eb3-09cb-4a12-bbd8-e3eefb4ba13d",
   "metadata": {},
   "source": [
    "### Étape 1 : Nettoyage des données\n",
    "#### Vérifier s'il y a des valeurs manquantes"
   ]
  },
  {
   "cell_type": "code",
   "execution_count": 9,
   "id": "9ad2dd45-5463-4943-81a3-6480bb45dbd1",
   "metadata": {},
   "outputs": [
    {
     "name": "stdout",
     "output_type": "stream",
     "text": [
      "Nombre de valeurs manquantes avant nettoyage :\n",
      "country         0\n",
      "country_code    0\n",
      "year            0\n",
      "inflation       0\n",
      "dtype: int64\n"
     ]
    }
   ],
   "source": [
    "print(\"Nombre de valeurs manquantes avant nettoyage :\")\n",
    "print(raw_df.isnull().sum())"
   ]
  },
  {
   "cell_type": "markdown",
   "id": "1c44327f-b6a4-451b-aa72-5cd23c273290",
   "metadata": {},
   "source": [
    "#### Suppression des lignes contenant des valeurs manquantes"
   ]
  },
  {
   "cell_type": "code",
   "execution_count": 10,
   "id": "674d65a8-c1de-41b7-9498-6fdd748f4925",
   "metadata": {},
   "outputs": [],
   "source": [
    "raw_df = raw_df.dropna()"
   ]
  },
  {
   "cell_type": "markdown",
   "id": "ef1b61c2-0661-46af-9093-b0cbe9aa3fda",
   "metadata": {},
   "source": [
    "#### Vérification du nettoyage\n"
   ]
  },
  {
   "cell_type": "code",
   "execution_count": 11,
   "id": "847ff31f-1e90-4870-b891-f5d12a6f20d7",
   "metadata": {},
   "outputs": [
    {
     "name": "stdout",
     "output_type": "stream",
     "text": [
      "Nombre de valeurs manquantes après nettoyage :\n",
      "country         0\n",
      "country_code    0\n",
      "year            0\n",
      "inflation       0\n",
      "dtype: int64\n"
     ]
    }
   ],
   "source": [
    "print(\"Nombre de valeurs manquantes après nettoyage :\")\n",
    "print(raw_df.isnull().sum())"
   ]
  },
  {
   "cell_type": "markdown",
   "id": "93224895-114b-405c-8862-2af0c92660fd",
   "metadata": {},
   "source": [
    "### Étape 2 : Transformation des données\n",
    "#### Vérifier les types des colonnes"
   ]
  },
  {
   "cell_type": "code",
   "execution_count": 12,
   "id": "b6b87370-145d-4f9f-8402-43143c475511",
   "metadata": {},
   "outputs": [
    {
     "name": "stdout",
     "output_type": "stream",
     "text": [
      "Types des colonnes avant transformation :\n",
      "country          object\n",
      "country_code     object\n",
      "year              int64\n",
      "inflation       float64\n",
      "dtype: object\n"
     ]
    }
   ],
   "source": [
    "print(\"Types des colonnes avant transformation :\")\n",
    "print(raw_df.dtypes)"
   ]
  },
  {
   "cell_type": "markdown",
   "id": "68a2c792-d869-4830-9e33-7d821e397aaa",
   "metadata": {},
   "source": [
    "#### S'assurer que les colonnes ont le bon type"
   ]
  },
  {
   "cell_type": "code",
   "execution_count": 13,
   "id": "f0d9646a-aab1-4a37-a0c8-7871e560f61c",
   "metadata": {},
   "outputs": [],
   "source": [
    "raw_df['year'] = raw_df['year'].astype(int)\n",
    "raw_df['inflation'] = raw_df['inflation'].astype(float)"
   ]
  },
  {
   "cell_type": "markdown",
   "id": "563c4cf5-2058-4c41-8473-ae756c348776",
   "metadata": {},
   "source": [
    "#### Vérification des types après transformation"
   ]
  },
  {
   "cell_type": "code",
   "execution_count": 14,
   "id": "eb262d09-631a-45ce-a633-8761c2bd77c4",
   "metadata": {},
   "outputs": [
    {
     "name": "stdout",
     "output_type": "stream",
     "text": [
      "Types des colonnes après transformation :\n",
      "country          object\n",
      "country_code     object\n",
      "year              int32\n",
      "inflation       float64\n",
      "dtype: object\n"
     ]
    }
   ],
   "source": [
    "print(\"Types des colonnes après transformation :\")\n",
    "print(raw_df.dtypes)"
   ]
  },
  {
   "cell_type": "markdown",
   "id": "9e3a3483-38ba-4526-9e92-a680c071683f",
   "metadata": {},
   "source": [
    "### Étape 3 : Sauvegarder le DataFrame traité en CSV"
   ]
  },
  {
   "cell_type": "code",
   "execution_count": 15,
   "id": "f9afe1bd-5910-44c1-bc6e-e962c67d31f0",
   "metadata": {},
   "outputs": [],
   "source": [
    "output_csv = \"data/processed_inflation_data.csv\"\n",
    "raw_df.to_csv(output_csv, index=False)"
   ]
  },
  {
   "cell_type": "markdown",
   "id": "98906920-7e8b-4ee7-9905-0ea7bbf37773",
   "metadata": {},
   "source": [
    "### Étape 4 : Sauvegarder dans MinIO\n",
    "#### Connexion à MinIO"
   ]
  },
  {
   "cell_type": "code",
   "execution_count": 16,
   "id": "1d72845d-5c3d-4ef2-aedd-d2dc78ab1dbc",
   "metadata": {},
   "outputs": [],
   "source": [
    "minio_client = Minio(\n",
    "    \"localhost:9000\",\n",
    "    access_key=\"minioadmin\",\n",
    "    secret_key=\"minioadmin\",\n",
    "    secure=False\n",
    ")"
   ]
  },
  {
   "cell_type": "markdown",
   "id": "09ebf488-0153-43b4-9314-b7dc51ba3672",
   "metadata": {},
   "source": [
    "#### Vérifier si le bucket existe, sinon le créer"
   ]
  },
  {
   "cell_type": "code",
   "execution_count": 17,
   "id": "1bff6596-942f-42d0-a7e2-77c7e38886e5",
   "metadata": {},
   "outputs": [
    {
     "name": "stdout",
     "output_type": "stream",
     "text": [
      "Le bucket 'inflation-bucket' existe déjà.\n"
     ]
    }
   ],
   "source": [
    "bucket_name = \"inflation-bucket\"\n",
    "if not minio_client.bucket_exists(bucket_name):\n",
    "    minio_client.make_bucket(bucket_name)\n",
    "    print(f\"Bucket '{bucket_name}' créé avec succès.\")\n",
    "else:\n",
    "    print(f\"Le bucket '{bucket_name}' existe déjà.\")\n"
   ]
  },
  {
   "cell_type": "markdown",
   "id": "3a6b2ceb-b2dd-40c5-a20a-369afc67815a",
   "metadata": {},
   "source": [
    "#### Téléverser le fichier CSV dans MinIO"
   ]
  },
  {
   "cell_type": "code",
   "execution_count": 18,
   "id": "ca43014d-bdd1-4653-a1c1-819baa73ad0e",
   "metadata": {},
   "outputs": [
    {
     "name": "stdout",
     "output_type": "stream",
     "text": [
      "Fichier 'data/processed_inflation_data.csv' chargé avec succès dans MinIO.\n"
     ]
    }
   ],
   "source": [
    "minio_client.fput_object(bucket_name, \"processed_inflation_data.csv\", output_csv)\n",
    "print(f\"Fichier '{output_csv}' chargé avec succès dans MinIO.\")"
   ]
  },
  {
   "cell_type": "code",
   "execution_count": null,
   "id": "2f1ca60c-5d4d-4387-bb9d-2232baeab3e9",
   "metadata": {},
   "outputs": [],
   "source": []
  }
 ],
 "metadata": {
  "kernelspec": {
   "display_name": "Python 3 (ipykernel)",
   "language": "python",
   "name": "python3"
  },
  "language_info": {
   "codemirror_mode": {
    "name": "ipython",
    "version": 3
   },
   "file_extension": ".py",
   "mimetype": "text/x-python",
   "name": "python",
   "nbconvert_exporter": "python",
   "pygments_lexer": "ipython3",
   "version": "3.11.9"
  }
 },
 "nbformat": 4,
 "nbformat_minor": 5
}
